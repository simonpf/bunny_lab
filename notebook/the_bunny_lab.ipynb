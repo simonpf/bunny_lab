{
 "cells": [
  {
   "cell_type": "markdown",
   "metadata": {},
   "source": [
    "# Welcome to the Bunny Lab!\n",
    "\n",
    "For this little game you slip into the role of a bunny trying to save his friends from a group of evil scientists that want to perform experiments on them."
   ]
  },
  {
   "cell_type": "code",
   "execution_count": null,
   "metadata": {},
   "outputs": [],
   "source": [
    "!pip install bunny_lab # Installs bunny lab."
   ]
  },
  {
   "cell_type": "markdown",
   "metadata": {},
   "source": [
    "## How it works\n",
    "\n",
    "Each level of ths bunny lab consists of a Python function that is part of the `bunny_lab` module. The source code\n",
    "of each function is given in the text cell above. Using the source code, your task is to figure out how to call the function so that as many bunnies as possible make it to the `rescue` function."
   ]
  },
  {
   "cell_type": "code",
   "execution_count": null,
   "metadata": {},
   "outputs": [],
   "source": [
    "import bunny_lab\n",
    "bunny_lab.initialize(\"http://titanite.rss.chalmers.se:8000\")"
   ]
  },
  {
   "cell_type": "markdown",
   "metadata": {},
   "source": [
    "## Level 1"
   ]
  },
  {
   "cell_type": "markdown",
   "metadata": {},
   "source": [
    "````python\n",
    "\n",
    "def transport_bunnies(velocity):\n",
    "    \"\"\"\n",
    "    Bunnies need to be transported from the farm to the lab but the road\n",
    "    is dangerous and the amount of oxygen in the truck is limited.\n",
    "    \"\"\"\n",
    "    bunnies = [\"Fifi\", \"Gunter\", \"Hazy\"]\n",
    "    distance = 100.0\n",
    "    time_required = distance / velocity\n",
    "    oxygen_required = time_required * 10.0\n",
    "\n",
    "    if velocity > 100:\n",
    "        return rescue([])\n",
    "    if oxygen_required > 20.0:\n",
    "        return rescue([])\n",
    "\n",
    "    rescue(bunnies)\n",
    "````"
   ]
  },
  {
   "cell_type": "code",
   "execution_count": null,
   "metadata": {},
   "outputs": [],
   "source": [
    "bunny_lab.transport_bunnies(80)"
   ]
  },
  {
   "cell_type": "markdown",
   "metadata": {},
   "source": [
    "## Level 2"
   ]
  },
  {
   "cell_type": "markdown",
   "metadata": {},
   "source": [
    "````python\n",
    "   def shave_bunnies(device_index):\n",
    "    \"\"\"\n",
    "    Shaves bunnies to prepare them for experiments.\n",
    "    \"\"\"\n",
    "    bunnies = [\"Alfie\", \"Bugs\", \"Chip\"]\n",
    "    devices = [\"harmless bunny shaver\", \"buzz saw\", \"rusty razor\"]\n",
    "    devices.reverse()\n",
    "    device = devices[device_index]\n",
    "\n",
    "    for bunny in bunnies:\n",
    "        if device in [\"buzz saw\", \"rusty razor\"]:\n",
    "            bunnies.remove(bunny)\n",
    "\n",
    "    rescue(bunnies, level=1, device=device)\n",
    "\n",
    " \n",
    "````    "
   ]
  },
  {
   "cell_type": "code",
   "execution_count": null,
   "metadata": {},
   "outputs": [],
   "source": [
    "bunny_lab.shave_bunnies(???)"
   ]
  },
  {
   "cell_type": "markdown",
   "metadata": {},
   "source": [
    "## Level 3"
   ]
  },
  {
   "cell_type": "markdown",
   "metadata": {},
   "source": [
    "````python\n",
    "def feed_bunnies(names):\n",
    "    \"\"\"\n",
    "    Some of the bunnies are hungry and need food. This\n",
    "    function feeds a list of bunnies.\n",
    "    \"\"\"\n",
    "    hungry_bunnies = [\"Hips\", \"Ivan\", \"Jo\"]\n",
    "    allergies = {\"Hips\":  [\"Carrots\"],\n",
    "                 \"Ivan\": [\"Hay, Carrots\"],\n",
    "                 \"Jo\": [\"Cale\"]}\n",
    "    foods = [\"Carrots\", \"Hay\", \"Cale\"]\n",
    "\n",
    "    bunnies_fed = []\n",
    "    for bunny, food in zip(names, foods):\n",
    "        if not food in allergies[bunny]:\n",
    "            bunnies_fed.append(bunny)\n",
    "\n",
    "    healthy_bunnies = [b for b in bunnies_fed if b in hungry_bunnies]\n",
    "    rescue(healthy_bunnies)\n",
    "````"
   ]
  },
  {
   "cell_type": "code",
   "execution_count": null,
   "metadata": {},
   "outputs": [],
   "source": [
    "bunny_lab.feed_bunnies(???)"
   ]
  },
  {
   "cell_type": "markdown",
   "metadata": {},
   "source": [
    "## Level 4\n",
    "\n",
    "````python\n",
    "from random import shuffle\n",
    "\n",
    "def test_drug(choose_drug):\n",
    "    \"\"\"\n",
    "    You offer the scientist help with the experiments in order to save your\n",
    "    bunny friends. The task they give you is to choose the drug to give\n",
    "    to each patient.\n",
    "    \"\"\"\n",
    "    bunnies = [\"Turbo\", \"Uma\", \"Velvet\", \"Whoopie\"]\n",
    "    drugs = [\"Placebo\", \"Bleach\"]\n",
    "\n",
    "    healthy_bunnies = []\n",
    "    for bunny in bunnies:\n",
    "        drugs_shuffled = shuffle(drugs)\n",
    "        drug = choose_drug(drugs_shuffled)\n",
    "        if drug == \"Placebo\":\n",
    "            healthy_bunnies.append(bunny)\n",
    "\n",
    "    rescue(healthy_bunnies)\n",
    "````"
   ]
  },
  {
   "cell_type": "code",
   "execution_count": null,
   "metadata": {},
   "outputs": [],
   "source": [
    "bunny_lab.test_drug(???)"
   ]
  },
  {
   "cell_type": "markdown",
   "metadata": {},
   "source": [
    "## Level 5\n",
    "\n",
    "````python\n",
    "from random import random\n",
    "\n",
    "def free_bunnies(spy_class):\n",
    "    \"\"\"\n",
    "    Just as you and a group of other bunnies want to escape from the lab, you\n",
    "    discover that the back door is locked with a secret code. To open it, you\n",
    "    need to spy on a guard who's going out for a smoke.\n",
    "    \"\"\"\n",
    "    bunnies = [\"Turbo\", \"Uma\", \"Velvet\", \"Whoopie\"]\n",
    "    drugs = [\"Placebo\", \"Bleach\"]\n",
    "\n",
    "    spy = spy_class()\n",
    "\n",
    "    secret_code = []\n",
    "    for i in range(10):\n",
    "        x = random()\n",
    "        spy.listen(x)\n",
    "        secret_code.append(x)\n",
    "\n",
    "    if secret_code == spy.guess_code():\n",
    "        rescue(bunnies)\n",
    "````"
   ]
  },
  {
   "cell_type": "code",
   "execution_count": null,
   "metadata": {},
   "outputs": [],
   "source": [
    "bunny_lab.free_bunnies(???)"
   ]
  },
  {
   "cell_type": "markdown",
   "metadata": {},
   "source": [
    "# Display results"
   ]
  },
  {
   "cell_type": "code",
   "execution_count": null,
   "metadata": {},
   "outputs": [],
   "source": [
    "from IPython.core.display import display, HTML\n",
    "response = bunny_lab.session.get_results()\n",
    "display(HTML(response))"
   ]
  }
 ],
 "metadata": {
  "kernelspec": {
   "display_name": "Python 3",
   "language": "python",
   "name": "python3"
  },
  "language_info": {
   "codemirror_mode": {
    "name": "ipython",
    "version": 3
   },
   "file_extension": ".py",
   "mimetype": "text/x-python",
   "name": "python",
   "nbconvert_exporter": "python",
   "pygments_lexer": "ipython3",
   "version": "3.7.4"
  }
 },
 "nbformat": 4,
 "nbformat_minor": 4
}
